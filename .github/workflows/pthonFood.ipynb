#load in necesary modules
import os
import pandas as pd
import sqldf
import csv
import numpy as np
import matplotlib.pyplot as plt
import sklearn
from sklearn.linear_model import LinearRegression
from sklearn import metrics
import matplotlib.colors
files = os.listdir('ydata/')

data = {}

for i in range(0,len(files)):
    data[files[i][0:-5]]= pd.read_excel('ydata/'+(files[i]), sheet_name="Sheet1")
    
population = data['Population']
cpi = data['CPI']
realincome = data['RealHI']
unemployment = data['Unemployment']
poverty = data['Poverty']
population = population.rename(columns={'Date': 'year', "Value": 'pop(M)'})
population['pop(M)'] = population['pop(M)'].str.replace(' million','').astype(float)
population['year'] = pd.DatetimeIndex(population['year']).year
population = population[1:]

cpi = cpi.rename(columns={'Date': 'year'})
cpi['year'] = pd.DatetimeIndex(cpi['year']).year

realincome = realincome.rename(columns={'Date': 'year', 'Median Household Income': 'median_I', 'Mean Household Income':'mean_I'})

unemployment = unemployment.rename(columns={'Date': 'year','Rate':'urate'})
unemployment['year'] = pd.DatetimeIndex(unemployment['year']).year
unemployment = unemployment[1:]

yFA = pd.read_csv("SNAP_history_1969_2019.csv", header=0)

yFA['Fiscal Year'] = yFA['Fiscal Year'].str[:4]

yFA.dtypes

yFA = yFA.rename(columns={'Fiscal Year': 'year', "Average Benefit Per Person": 'avg_benpp', 
                          "Average Participation": 'participation_k', "Total Costs(M)": 'tot_cost(M)'})
yFA['year']= pd.to_numeric(yFA['year'], errors='coerce')
yFA
yearly = pd.merge(
    yFA,
    population,
    how="left",
    on="year"
)

yearly = pd.merge(
    yearly,
    cpi,
    how="left",
    on="year"
)

yearly = pd.merge(
    yearly,
    unemployment,
    how="left",
    on="year"
)

yearly = pd.merge(
    yearly,
    realincome,
    how="left",
    on="year"
)

yearly = pd.merge(
    yearly,
    poverty,
    how="left",
    on="year"
)

yearly.dtypes


yearly['participation_k'] = yearly['participation_k'].str.replace(',','')
yearly['Total Benefits(M)'] = yearly['Total Benefits(M)'].str.replace(',','')
yearly['Other Costs'] = yearly['Other Costs'].str.replace(',','')
yearly['tot_cost(M)'] = yearly['tot_cost(M)'].str.replace(',','')


yearly = yearly.astype({'participation_k': 'float64','Total Benefits(M)': 'float64','Other Costs': 'float64','tot_cost(M)': 'float64'})


yearly['participation_pr'] = (yearly[('participation_k')]/1000)/yearly['pop(M)']

cpi_adj_cost = yearly['tot_cost(M)']/(yearly['CPI']/251.71)

yearly.insert(6, 'cpi_adj_tot_cost',cpi_adj_cost)


yearly['un_pop(M)'] = yearly['pop(M)']*yearly['urate']

from sklearn import linear_model
import statsmodels.api as sm

#Y = yearly['tot_cost(M)']
#X =  yearly[['pop(M)','CPI','urate','median_I','mean_I','pvty_popk','pvty_perc','participation_pr','participation_k']]

Y = yearly['cpi_adj_tot_cost']
X =  yearly[['participation_k','un_pop(M)','urate','pvty_popk']]
#Y = yearly['tot_cost(M)']
#Y2 = yearly['cpi_adj_tot_cost']
#X =  yearly[['pop(M)','CPI','urate','median_I','mean_I','pvty_popk','pvty_perc','participation_pr','participation_k']]
X = sm.add_constant(X)
model = sm.OLS(Y, X).fit()
predictions = model.predict(X) 
print_model = model.summary()
print(print_model)

Y = yearly['tot_cost(M)']
X =  yearly[['participation_k','un_pop(M)','urate','pvty_popk']]
#Y = yearly['tot_cost(M)']
#Y2 = yearly['cpi_adj_tot_cost']
#X =  yearly[['pop(M)','CPI','urate','median_I','mean_I','pvty_popk','pvty_perc','participation_pr','participation_k']]
X = sm.add_constant(X)
model = sm.OLS(Y, X).fit()
predictions = model.predict(X) 
print_model = model.summary()
print(print_model)

yearly.insert(7, 'cpi_cost_predict',predictions)

yearly

plt.plot(yearly['year'], yearly['cpi_adj_tot_cost'], label = 'Adjusted Cost (M)')
plt.plot(yearly['year'], yearly['cpi_cost_predict'], label = 'Predicted Adj Cost (M)')
plt.xlabel('year')
plt.ylabel('Millions of Dollars')
plt.legend()
plt.show()

plt.plot(yearly['year'], yearly['tot_cost(M)'],color='green', label = 'Total Costs ($M)')
plt.xlabel('year')
plt.ylabel('Millions of Dollars')
plt.legend()
plt.show()

delta = (yearly['cpi_cost_predict']-yearly['cpi_adj_tot_cost'])
yearly.insert(8, 'delta_cost',delta)

max(yearly['delta_cost'])


min(yearly['delta_cost'])


sum(abs(yearly['delta_cost']))/len(yearly['delta_cost'])

sub = yearly[['tot_cost(M)', 'pop(M)','CPI','urate','median_I','mean_I','pvty_popk','pvty_perc','participation_k','un_pop(M)']]
sub.corr()

sub2 = yearly[['cpi_adj_tot_cost', 'pop(M)','CPI','urate','median_I','mean_I','pvty_popk','pvty_perc','participation_k','un_pop(M)']]
sub2.corr()

plt.plot(yearly['year'], yearly['participation_pr'], label = '% of participation')
plt.plot(yearly['year'], yearly['pvty_perc'], label = '% of poverty population ')
plt.xlabel('year')
plt.ylabel('Percent')
plt.legend()
plt.savefig('participation_pc_VS_pvty_pc.jpg')
plt.show()

plt.plot(yearly['year'], yearly['urate'], label = 'Unemployment rate')
plt.plot(yearly['year'], yearly['pvty_perc'], label = '% of poverty population')
plt.xlabel('year')
plt.ylabel('Percent')
plt.legend()
plt.savefig('Unemployment_rate_VS_pvty_pc.jpg')
plt.show()


plt.plot(yearly['year'], yearly['urate'], label = 'Unemployment_rate')
plt.plot(yearly['year'], yearly['participation_pr'], label = 'participation_pr')
plt.xlabel('year')
plt.ylabel('Percent')
plt.legend()
plt.show()


plt.plot(yearly['year'], yearly['tot_cost(M)'], label = 'tot_cost')
plt.plot(yearly['year'], yearly['cpi_adj_tot_cost'], label = 'cpi_adj_tot_cost')
plt.xlabel('year')
plt.ylabel('Cost(M)')
plt.title('Total cost and CPI adjusted total cost')
plt.legend()
plt.savefig('Total cost and CPI adjusted total cost.jpg')
plt.show()

fig, axis1 = plt.subplots()
color = 'tab:red'
axis1.plot(yearly['year'], yearly['tot_cost(M)'], color=color, label = 'tot_cost(M)')
axis1.set_xlabel('year')
axis1.set_ylabel('tot_cost(M)', color=color)
axis1.tick_params(axis='y', labelcolor=color)
plt.legend()

axis2 = axis1.twinx() 

color = 'tab:blue'
axis2.plot(yearly['year'], yearly['urate'], color=color, label = 'Unemployment_rate')
axis2.set_ylabel('urate', color=color) 
axis2.tick_params(axis='y', labelcolor=color)

fig.tight_layout()
plt.legend()
plt.show()


fig, axis1 = plt.subplots()
color = 'tab:red'
axis1.plot(yearly['year'], yearly['tot_cost(M)'], color=color, label = 'tot_cost(M)')
axis1.set_xlabel('year')
axis1.set_ylabel('tot_cost(M)', color=color)
axis1.tick_params(axis='y', labelcolor=color)

axis2 = axis1.twinx() 

color = 'tab:green'
axis2.plot(yearly['year'], yearly['mean_I'], color=color, label = 'Income')
axis2.set_ylabel('mean_I', color=color) 
axis2.tick_params(axis='y', labelcolor=color)

fig.tight_layout()
plt.show()




fig, axis1 = plt.subplots()
color = 'tab:red'
axis1.plot(yearly['year'], yearly['tot_cost(M)'], color=color, label = 'tot_cost(M)')
axis1.set_xlabel('year')
axis1.set_ylabel('tot_cost(M)', color=color)
axis1.tick_params(axis='y', labelcolor=color)
#plt.legend()

axis2 = axis1.twinx() 

color = 'tab:orange'
axis2.plot(yearly['year'], yearly['pvty_popk'], color=color, label = 'number of poverty population (K)')
axis2.set_ylabel('number of poverty population (K)', color=color) 
axis2.tick_params(axis='y', labelcolor=color)

fig.tight_layout()
#plt.legend()
#plt.title('Total cost and number of poverty population')
plt.savefig('Total cost and number of poverty population.jpg')
plt.show()



fig, axis1 = plt.subplots()
color = 'tab:red'
axis1.plot(yearly['year'], yearly['tot_cost(M)'], color=color, label = 'Total cost(M)')
axis1.set_xlabel('year')
axis1.set_ylabel('Total Cost(M)', color=color)
axis1.tick_params(axis='y', labelcolor=color)


axis2 = axis1.twinx() 

color = 'tab:cyan'
axis2.plot(yearly['year'], yearly['participation_k'], color=color, label = 'number of participants (K)')
axis2.set_ylabel('number of participants (K)', color=color) 
axis2.tick_params(axis='y', labelcolor=color)

fig.tight_layout()
plt.savefig('Total cost and number of participant.jpg')
plt.show()



fig, axis1 = plt.subplots()
color = 'tab:red'
axis1.plot(yearly['year'], yearly['mean_I'], color=color, label = 'Income')
axis1.set_xlabel('year')
axis1.set_ylabel('mean_I', color=color)
axis1.tick_params(axis='y', labelcolor=color)
plt.legend()

axis2 = axis1.twinx() 

color = 'tab:blue'
axis2.plot(yearly['year'], yearly['urate'], color=color, label = 'Unemployment_rate')
axis2.set_ylabel('urate', color=color) 
axis2.tick_params(axis='y', labelcolor=color)

fig.tight_layout()
plt.legend()
plt.show()




fig, axis1 = plt.subplots()
color = 'tab:red'
axis1.plot(yearly['year'], yearly['mean_I'], color=color, label = 'Income')
axis1.set_xlabel('year')
axis1.set_ylabel('mean_I', color=color)
axis1.tick_params(axis='y', labelcolor=color)
plt.legend()

axis2 = axis1.twinx() 

color = 'tab:green'
axis2.plot(yearly['year'], yearly['pvty_perc'], color=color, label = 'pvty_perc')
axis2.set_ylabel('pvty_perc', color=color) 
axis2.tick_params(axis='y', labelcolor=color)

fig.tight_layout()
plt.legend()
plt.show()



fig, axis1 = plt.subplots()
color = 'tab:red'
axis1.plot(yearly['year'], yearly['mean_I'], color=color, label = 'Income')
axis1.set_xlabel('year')
axis1.set_ylabel('mean_I', color=color)
axis1.tick_params(axis='y', labelcolor=color)

axis2 = axis1.twinx() 

color = 'tab:orange'
axis2.plot(yearly['year'], yearly['participation_pr'], color=color, label = 'participation_pr')
axis2.set_ylabel('participation_pr', color=color) 
axis2.tick_params(axis='y', labelcolor=color)

fig.tight_layout()
plt.show()


fig, axis1 = plt.subplots()
color = 'tab:green'
axis1.plot(yearly['year'], yearly['pop(M)'], color=color, label = 'Population (M)')
axis1.set_xlabel('year')
axis1.set_ylabel('Population (M)', color=color)
axis1.tick_params(axis='y', labelcolor=color)

axis2 = axis1.twinx() 

color = 'tab:orange'
axis2.plot(yearly['year'], yearly['CPI'], color=color, label = 'CPI')
axis2.set_ylabel('CPI', color=color) 
axis2.tick_params(axis='y', labelcolor=color)

fig.tight_layout()
plt.savefig('Population and CPI.jpg')
plt.show()

os.getcwd()

#Load in the data
FoodAZillowMWageMonthly = FoodAssistance = pd.read_csv("FoodAMinimumWageJoinedZillow2.csv", header=0)

#Plot Total Benefit Histogram
plt.hist(FoodAZillowMWageMonthly['Cost'],bins=100)#, density=True)
plt.ylabel('Frequency')
plt.title('Benefit Histogram')
plt.xlabel('Total Benefit (in thousands of $)')
plt.show()

print(FoodAZillowMWageMonthly['State'].unique())

#Set color palletes
StateColorsC = {'Connecticut':'slategrey','Maine':'lightsteelblue','Massachusetts':'cornflowerblue','New Hampshire':'royalblue','New York':'lavender','Rhode Island':'midnightblue', 'Vermont':'mediumblue',
              'Virgin Islands':'rosybrown','Alabama':'lightcoral','Florida':'indianred','Georgia':'brown','Kentucky':'maroon','Mississippi':'red','North Carolina':'mistyrose','South Carolina':'salmon','Tennessee':'coral',
              'Delaware':'mediumaquamarine','District of Columbia':'aquamarine','Maryland':'turquoise','New Jersey':'lightseagreen','Pennsylvania':'lightcyan','Virginia':'teal','West Virginia':'darkslategrey',
               'Colorado':'lawngreen','Iowa':'darkseagreen','Kansas':'palegreen','Missouri':'lightgreen','Montana':'olive','Nebraska':'darkolivegreen','North Dakota':'olivedrab','South Dakota':'forestgreen','Utah':'limegreen','Wyoming':'springgreen',
               'Illinois':'slateblue','Indiana':'darkslateblue','Michigan':'mediumpurple','Minnesota':'blueviolet','Ohio':'indigo','Wisconsin':'darkviolet',
               'Arkansas':'darkgoldenrod','Louisiana':'goldenrod','New Mexico':'cornsilk','Oklahoma':'gold','Texas':'khaki',
               'Arizona':'black','Alaska':'dimgray','California':'gray','Guam':'darkgray','Hawaii':'silver','Idaho':'lightgray','Nevada':'gainsboro','Oregon':'whitesmoke','Washington':'tan'
              }
RegionColorsC = {'Connecticut':'b','Maine':'b','Massachusetts':'b','New Hampshire':'b','New York':'b','Rhode Island':'b', 'Vermont':'b',
                'Virgin Islands':'r','Alabama':'r','Florida':'r','Georgia':'r','Kentucky':'r','Mississippi':'r','North Carolina':'r','South Carolina':'r','Tennessee':'r',
                'Delaware':'c','District of Columbia':'c','Maryland':'c','New Jersey':'c','Pennsylvania':'c','Virginia':'c','West Virginia':'c',
                'Colorado':'g','Iowa':'g','Kansas':'g','Missouri':'g','Montana':'g','Nebraska':'g','North Dakota':'g','South Dakota':'g','Utah':'g','Wyoming':'g',
                'Illinois':'m','Indiana':'m','Michigan':'m','Minnesota':'m','Ohio':'m','Wisconsin':'m',
                'Arkansas':'y','Louisiana':'y','New Mexico':'y','Oklahoma':'y','Texas':'y',
                'Arizona':'k','Alaska':'k','California':'k','Guam':'k','Hawaii':'k','Idaho':'k','Nevada':'k','Oregon':'k','Washington':'k'
                    }
RegionalSummaryColors = {'NERO':'b','SERO':'r','MARO':'c','MPRO':'g','MWRO':'m','SWRO':'y','WRO':'k'}

FoodAZillowMWageMonthly['StateColors']=FoodAZillowMWageMonthly['State'].map(StateColorsC)
FoodAZillowMWageMonthly['RegionsC']=FoodAZillowMWageMonthly['State'].map(RegionColorsC)
FoodAZillowMWageMonthly['RegionsSummaryC']=FoodAZillowMWageMonthly['State'].map(RegionalSummaryColors)

FoodAZillowMWageMonthlyDRb = FoodAZillowMWageMonthly[FoodAZillowMWageMonthly['RegionsC']=='b']
FoodAZillowMWageMonthlyDRr = FoodAZillowMWageMonthly[FoodAZillowMWageMonthly['RegionsC']=='r']
FoodAZillowMWageMonthlyDRc = FoodAZillowMWageMonthly[FoodAZillowMWageMonthly['RegionsC']=='c']
FoodAZillowMWageMonthlyDRg = FoodAZillowMWageMonthly[FoodAZillowMWageMonthly['RegionsC']=='g']
FoodAZillowMWageMonthlyDRm = FoodAZillowMWageMonthly[FoodAZillowMWageMonthly['RegionsC']=='m']
FoodAZillowMWageMonthlyDRy = FoodAZillowMWageMonthly[FoodAZillowMWageMonthly['RegionsC']=='y']
FoodAZillowMWageMonthlyDRk = FoodAZillowMWageMonthly[FoodAZillowMWageMonthly['RegionsC']=='k']

#New England Hist
plt.hist(FoodAZillowMWageMonthlyDRb['Cost'],bins=100)#, density=True)
plt.ylabel('Frequency')
plt.title('New England Benefit Histogram')
plt.xlabel('Total Benefit (in thousands of $)')
plt.show()

#Southeast
plt.hist(FoodAZillowMWageMonthlyDRr['Cost'],bins=100, color='r')#, density=True)
plt.ylabel('Frequency')
plt.title('Southeastern Benefit Histogram')
plt.xlabel('Total Benefit (in thousands of $)')
plt.show()

#Mid Atlantic Cost Hist
plt.hist(FoodAZillowMWageMonthlyDRc['Cost'],bins=100, color='c')#, density=True)
plt.ylabel('Frequency')
plt.title('Mid Atlantic Benefit Histogram')
plt.xlabel('Total Benefit (in thousands of $)')
plt.show()

#Mountain Plains Cost Hist
plt.hist(FoodAZillowMWageMonthlyDRg['Cost'],bins=100, color='g')#, density=True)
plt.ylabel('Frequency')
plt.title('Mountain Plains Benefit Histogram')
plt.xlabel('Total Benefit (in thousands of $)')
plt.show()

#Midwest Cost Hist
plt.hist(FoodAZillowMWageMonthlyDRm['Cost'],bins=100, color='m')#, density=True)
plt.ylabel('Frequency')
plt.title('Midwest Benefit Histogram')
plt.xlabel('Total Benefit (in thousands of $)')
plt.show()

#Southwest Cost Hist
plt.hist(FoodAZillowMWageMonthlyDRy['Cost'],bins=100, color='y')#, density=True)
plt.ylabel('Frequency')
plt.title('Southwestern Benefit Histogram')
plt.xlabel('Total Benefit (in thousands of $)')
plt.show()

#Western Cost Hist
plt.hist(FoodAZillowMWageMonthlyDRk['Cost'],bins=100, color='k')#, density=True)
plt.ylabel('Frequency')
plt.title('Western Benefit Histogram')
plt.xlabel('Total Benefit (in thousands of $)')
plt.show()

#Monthly Data Without Regional Summaries
FoodAZillowMWageMonthlyDR = pd.concat([FoodAZillowMWageMonthlyDRb,FoodAZillowMWageMonthlyDRr,FoodAZillowMWageMonthlyDRc,FoodAZillowMWageMonthlyDRg,FoodAZillowMWageMonthlyDRm,FoodAZillowMWageMonthlyDRy,FoodAZillowMWageMonthlyDRk])

#SCATTER PLOTS

#All States RentalIndex
plt.scatter(x='AvgRentalIndex', y='Cost', data=FoodAZillowMWageMonthlyDR, c='StateColors',label='StateColors')#, legend='State')
plt.xlabel('Average Rental Index')
plt.ylabel('Total Benefit (in thousands of $)')
plt.title('All States Benefit vs Rental Index')
plt.show()

#All States RentalIndex Colored by Region
plt.scatter(x='AvgRentalIndex', y='Cost', data=FoodAZillowMWageMonthlyDR, c='RegionsC', label='RegionsC',edgecolors='face')
plt.xlabel('Average Rental Index')
plt.ylabel('Total Benefit (in thousands of $)')
plt.title('All States Benefit vs Rental Index (colored on Region)')
plt.show()

#MWPRO RentalIndexScatter
plt.scatter(x='AvgRentalIndex', y='Cost', data=FoodAZillowMWageMonthlyDR[FoodAZillowMWageMonthlyDR['RegionsC']=='m'], c='StateColors',label='StateColors')
plt.xlabel('Average Rental Index')
plt.ylabel('Total Benefit (in thousands of $)')
plt.title('Midwest Benefit vs Rental Index')
plt.show()

#WRO RentalIndexScatter
plt.scatter(x='AvgRentalIndex', y='Cost', data=FoodAZillowMWageMonthlyDR[FoodAZillowMWageMonthlyDR['RegionsC']=='k'], c='StateColors',label='StateColors')
plt.xlabel('Average Rental Index')
plt.ylabel('Total Benefit (in thousands of $)')
plt.title('Western Benefit vs Rental Index')
plt.show()

#All Regions Effective.Minimum.Wage.2020.Dollars
plt.scatter(x='Effective.Minimum.Wage.2020.Dollars', y='Cost', data=FoodAZillowMWageMonthlyDR, c='RegionsC',label='RegionsC')
plt.xlabel('Effective Minimum Wage (2020 Dollars)')
plt.ylabel('Total Benefit (in thousands of $)')
plt.title('All States Benefit vs Rental Index')
plt.show()

#Midwest Effective.Minimum.Wage.2020.Dollars
plt.scatter(x='Effective.Minimum.Wage.2020.Dollars', y='Cost', data=FoodAZillowMWageMonthlyDRm, c='StateColors')
#plt.legend(FoodAZillowMWageMonthlyDRm['State'])
plt.xlabel('Effective Minimum Wage (2020 Dollars)')
plt.ylabel('Total Benefit (in thousands of $)')
plt.title('Midwest Benefit vs Rental Index')
plt.show()

#Western Effective.Minimum.Wage.2020.Dollars
plt.scatter(x='Effective.Minimum.Wage.2020.Dollars', y='Cost', data=FoodAZillowMWageMonthlyDRk, c='StateColors')
#plt.legend(FoodAZillowMWageMonthlyDRm['State'])
plt.xlabel('Effective Minimum Wage (2020 Dollars)')
plt.ylabel('Total Benefit (in thousands of $)')
plt.title('Western Benefit vs Rental Index')
plt.show()

#Create Regional Summary dataframes
FoodAZillowMWageMonthlyRNero=FoodAZillowMWageMonthly[FoodAZillowMWageMonthly['State']=='NERO']# or FoodAZillowMWageMonthlyDR['RegionsC']=='r']
FoodAZillowMWageMonthlyRSero = FoodAZillowMWageMonthly[FoodAZillowMWageMonthly['State']=='SERO']
FoodAZillowMWageMonthlyRMaro = FoodAZillowMWageMonthly[FoodAZillowMWageMonthly['State']=='MARO']
FoodAZillowMWageMonthlyRMpro = FoodAZillowMWageMonthly[FoodAZillowMWageMonthly['State']=='MPRO']
FoodAZillowMWageMonthlyRMwro = FoodAZillowMWageMonthly[FoodAZillowMWageMonthly['State']=='MWRO']
FoodAZillowMWageMonthlyRSwro = FoodAZillowMWageMonthly[FoodAZillowMWageMonthly['State']=='SWRO']
FoodAZillowMWageMonthlyRWro = FoodAZillowMWageMonthly[FoodAZillowMWageMonthly['State']=='WRO']
FoodAZillowMWageMonthlyR = pd.concat([FoodAZillowMWageMonthlyRNero,FoodAZillowMWageMonthlyRSero,FoodAZillowMWageMonthlyRMaro,FoodAZillowMWageMonthlyRMpro,FoodAZillowMWageMonthlyRMwro,FoodAZillowMWageMonthlyRSwro,FoodAZillowMWageMonthlyRWro])
FoodAZillowMWageMonthlyR10 = FoodAZillowMWageMonthlyR[FoodAZillowMWageMonthlyR['AssistanceDateYear']=='2010']
FoodAZillowMWageMonthlyR11 = FoodAZillowMWageMonthlyR[FoodAZillowMWageMonthlyR['AssistanceDateYear']=='2011']
FoodAZillowMWageMonthlyR12 = FoodAZillowMWageMonthlyR[FoodAZillowMWageMonthlyR['AssistanceDateYear']=='2012']
FoodAZillowMWageMonthlyR13 = FoodAZillowMWageMonthlyR[FoodAZillowMWageMonthlyR['AssistanceDateYear']=='2013']
FoodAZillowMWageMonthlyR14 = FoodAZillowMWageMonthlyR[FoodAZillowMWageMonthlyR['AssistanceDateYear']=='2014']
FoodAZillowMWageMonthlyR10_14 = pd.concat([FoodAZillowMWageMonthlyR10,FoodAZillowMWageMonthlyR11,FoodAZillowMWageMonthlyR12,FoodAZillowMWageMonthlyR13,FoodAZillowMWageMonthlyR14])
FoodAZillowMWageMonthlyR10_14['RegionsColor']=FoodAZillowMWageMonthlyR10_14['State'].map(RegionalSummaryColors)

#Concatonate 2010-2014 w/out Regional Summaries
FoodAZillowMWageMonthlyDR10 = FoodAZillowMWageMonthlyDR[FoodAZillowMWageMonthlyDR['AssistanceDateYear']=='2010']
FoodAZillowMWageMonthlyDR11 = FoodAZillowMWageMonthlyDR[FoodAZillowMWageMonthlyDR['AssistanceDateYear']=='2011']
FoodAZillowMWageMonthlyDR12 = FoodAZillowMWageMonthlyDR[FoodAZillowMWageMonthlyDR['AssistanceDateYear']=='2012']
FoodAZillowMWageMonthlyDR13 = FoodAZillowMWageMonthlyDR[FoodAZillowMWageMonthlyDR['AssistanceDateYear']=='2013']
FoodAZillowMWageMonthlyDR14 = FoodAZillowMWageMonthlyDR[FoodAZillowMWageMonthlyDR['AssistanceDateYear']=='2014']
FoodAZillowMWageMonthlyDR10_14 = pd.concat([FoodAZillowMWageMonthlyDR10,FoodAZillowMWageMonthlyDR11,FoodAZillowMWageMonthlyDR12,FoodAZillowMWageMonthlyDR13,FoodAZillowMWageMonthlyDR14])

#Regional Summaries Time Series
plt.scatter(x='AssistanceDateYear', y='Cost', data=FoodAZillowMWageMonthlyR10_14, c='RegionsColor')
#plt.legend()
plt.title('Regional Aggregates over Time')
plt.xlabel('Assitance Date Year')
plt.ylabel('Total Benefit (in thousands of $)')
plt.show()

#All States Time Series
plt.scatter(x='AssistanceDateYear', y='Cost', data=FoodAZillowMWageMonthlyDR10_14, c='StateColors')
#plt.legend()
plt.title('All States Assistance over Time')
plt.xlabel('Assitance Date Year')
plt.ylabel('Total Benefit (in thousands of $)')
plt.show()

#All States Time Series colored by Region
plt.scatter(x='AssistanceDateYear', y='Cost', data=FoodAZillowMWageMonthlyDR10_14, c='RegionsC')
#plt.legend()
plt.title('All States Assistance over Time')
plt.xlabel('Assitance Date Year')
plt.ylabel('Total Benefit (in thousands of $)')
plt.show()

#Cut to 2010-2014 for Midwest and Western Regions
FoodAZillowMWageMonthlyDRm10 = FoodAZillowMWageMonthlyDRm[FoodAZillowMWageMonthlyDRm['AssistanceDateYear']=='2010']
FoodAZillowMWageMonthlyDRm11 = FoodAZillowMWageMonthlyDRm[FoodAZillowMWageMonthlyDRm['AssistanceDateYear']=='2011']
FoodAZillowMWageMonthlyDRm12 = FoodAZillowMWageMonthlyDRm[FoodAZillowMWageMonthlyDRm['AssistanceDateYear']=='2012']
FoodAZillowMWageMonthlyDRm13 = FoodAZillowMWageMonthlyDRm[FoodAZillowMWageMonthlyDRm['AssistanceDateYear']=='2013']
FoodAZillowMWageMonthlyDRm14 = FoodAZillowMWageMonthlyDRm[FoodAZillowMWageMonthlyDRm['AssistanceDateYear']=='2014']
FoodAZillowMWageMonthlyDRm10_14 = pd.concat([FoodAZillowMWageMonthlyDRm10,FoodAZillowMWageMonthlyDRm11,FoodAZillowMWageMonthlyDRm12,FoodAZillowMWageMonthlyDRm13,FoodAZillowMWageMonthlyDRm14])
FoodAZillowMWageMonthlyDRm10_14['RegionsColor']=FoodAZillowMWageMonthlyDRm10_14['State'].map(StateColorsC)
FoodAZillowMWageMonthlyDRk10 = FoodAZillowMWageMonthlyDRk[FoodAZillowMWageMonthlyDRk['AssistanceDateYear']=='2010']
FoodAZillowMWageMonthlyDRk11 = FoodAZillowMWageMonthlyDRk[FoodAZillowMWageMonthlyDRk['AssistanceDateYear']=='2011']
FoodAZillowMWageMonthlyDRk12 = FoodAZillowMWageMonthlyDRk[FoodAZillowMWageMonthlyDRk['AssistanceDateYear']=='2012']
FoodAZillowMWageMonthlyDRk13 = FoodAZillowMWageMonthlyDRk[FoodAZillowMWageMonthlyDRk['AssistanceDateYear']=='2013']
FoodAZillowMWageMonthlyDRk14 = FoodAZillowMWageMonthlyDRk[FoodAZillowMWageMonthlyDRk['AssistanceDateYear']=='2014']
FoodAZillowMWageMonthlyDRk10_14 = pd.concat([FoodAZillowMWageMonthlyDRk10,FoodAZillowMWageMonthlyDRk11,FoodAZillowMWageMonthlyDRk12,FoodAZillowMWageMonthlyDRk13,FoodAZillowMWageMonthlyDRk14])
FoodAZillowMWageMonthlyDRk10_14['RegionsColor']=FoodAZillowMWageMonthlyDRk10_14['State'].map(StateColorsC)

#Summary Midwest Benefit Over Time
plt.scatter(x='AssistanceDateYear', y='Cost', data=FoodAZillowMWageMonthlyDRm10_14, c='RegionsColor')
#plt.legend()
plt.title('Midwest Aggregates over Time')
plt.xlabel('Assitance Date Year')
plt.ylabel('Total Benefit (in thousands of $)')
plt.show()

#Summary Western Benefit Over Time
plt.scatter(x='AssistanceDateYear', y='Cost', data=FoodAZillowMWageMonthlyDRk10_14, c='RegionsColor')
#plt.legend()
plt.title('Western Aggregates over Time')
plt.xlabel('Assitance Date Year')
plt.ylabel('Total Benefit (in thousands of $)')
plt.show()

#PIE CHARTS

#Get Yearly Regional Summary dataframes
FoodAZillowMWageMonthlyRYearly = sqldf.run('select AssistanceDateYear,State, sum(Cost) as TotalBenefit from FoodAZillowMWageMonthlyR group by State, AssistanceDateYear')
FoodAZillowMWageMonthlyRYearly10 = sqldf.run('select AssistanceDateYear,State, sum(Cost) as TotalBenefit from FoodAZillowMWageMonthlyR where AssistanceDateYear=2010 group by State, AssistanceDateYear')
FoodAZillowMWageMonthlyRYearly11 = sqldf.run('select AssistanceDateYear,State, sum(Cost) as TotalBenefit from FoodAZillowMWageMonthlyR where AssistanceDateYear=2011 group by State, AssistanceDateYear')
FoodAZillowMWageMonthlyRYearly12 = sqldf.run('select AssistanceDateYear,State, sum(Cost) as TotalBenefit from FoodAZillowMWageMonthlyR where AssistanceDateYear=2012 group by State, AssistanceDateYear')
FoodAZillowMWageMonthlyRYearly13 = sqldf.run('select AssistanceDateYear,State, sum(Cost) as TotalBenefit from FoodAZillowMWageMonthlyR where AssistanceDateYear=2013 group by State, AssistanceDateYear')
FoodAZillowMWageMonthlyRYearly14 = sqldf.run('select AssistanceDateYear,State, sum(Cost) as TotalBenefit from FoodAZillowMWageMonthlyR where AssistanceDateYear=2014 group by State, AssistanceDateYear')
FoodAZillowMWageMonthlyRYearly15 = sqldf.run('select AssistanceDateYear,State, sum(Cost) as TotalBenefit from FoodAZillowMWageMonthlyR where AssistanceDateYear=2015 group by State, AssistanceDateYear')
FoodAZillowMWageMonthlyRYearly16 = sqldf.run('select AssistanceDateYear,State, sum(Cost) as TotalBenefit from FoodAZillowMWageMonthlyR where AssistanceDateYear=2016 group by State, AssistanceDateYear')
FoodAZillowMWageMonthlyRYearly17 = sqldf.run('select AssistanceDateYear,State, sum(Cost) as TotalBenefit from FoodAZillowMWageMonthlyR where AssistanceDateYear=2017 group by State, AssistanceDateYear')
FoodAZillowMWageMonthlyRYearly18 = sqldf.run('select AssistanceDateYear,State, sum(Cost) as TotalBenefit from FoodAZillowMWageMonthlyR where AssistanceDateYear=2018 group by State, AssistanceDateYear')
FoodAZillowMWageMonthlyRYearly19 = sqldf.run('select AssistanceDateYear,State, sum(Cost) as TotalBenefit from FoodAZillowMWageMonthlyR where AssistanceDateYear=2019 group by State, AssistanceDateYear')
FoodAZillowMWageMonthlyRYearly20 = sqldf.run('select AssistanceDateYear,State, sum(Cost) as TotalBenefit from FoodAZillowMWageMonthlyR where AssistanceDateYear=2020 group by State, AssistanceDateYear')
FoodAZillowMWageMonthlyRYearlyAvg = sqldf.run('select State, avg(Cost) as AvgTotalBenefit from FoodAZillowMWageMonthlyR group by State')

#Show Overall Regional Pie Chart
sizes = FoodAZillowMWageMonthlyRYearlyAvg['AvgTotalBenefit']
labs = FoodAZillowMWageMonthlyRYearlyAvg['State']
plt.pie(sizes, labels=labs, autopct='%.2f%%', colors=['c','g','m','b','r','y','grey'])
plt.title('Avg Total Benefit by Region')
plt.show()

#Show years if interest Regional Pie Charts
#2010
sizes = FoodAZillowMWageMonthlyRYearly10['TotalBenefit']
labs = FoodAZillowMWageMonthlyRYearly10['State']
plt.pie(sizes, labels=labs, autopct='%.2f%%', colors=['c','g','m','b','r','y','grey'])
plt.title('Total Benefit by Region in 2010')
plt.show()

#2011
sizes = FoodAZillowMWageMonthlyRYearly11['TotalBenefit']
labs = FoodAZillowMWageMonthlyRYearly11['State']
plt.pie(sizes, labels=labs, autopct='%.2f%%', colors=['c','g','m','b','r','y','grey'])
plt.title('Total Benefit by Region in 2011')
plt.show()

#2012
sizes = FoodAZillowMWageMonthlyRYearly12['TotalBenefit']
labs = FoodAZillowMWageMonthlyRYearly12['State']
plt.pie(sizes, labels=labs, autopct='%.2f%%', colors=['c','g','m','b','r','y','grey'])
plt.title('Total Benefit by Region in 2012')
plt.show()

#2013
sizes = FoodAZillowMWageMonthlyRYearly13['TotalBenefit']
labs = FoodAZillowMWageMonthlyRYearly13['State']
plt.pie(sizes, labels=labs, autopct='%.2f%%', colors=['c','g','m','b','r','y','grey'])
plt.title('Total Benefit by Region in 2013')
plt.show()

#2014
sizes = FoodAZillowMWageMonthlyRYearly14['TotalBenefit']
labs = FoodAZillowMWageMonthlyRYearly14['State']
plt.pie(sizes, labels=labs, autopct='%.2f%%', colors=['c','g','m','b','r','y','grey'])
plt.title('Total Benefit by Region in 2014')
plt.show()

#modelling

FoodAZillowMWageMonthly.dtypes

FoodAZillowMWageMonthly.shape

FoodAZillowMWageMonthly.info()

#column 7-13 have missing values
FoodAZillowMWageMonthly['State'].fillna('No state data found',inplace=True)
FoodAZillowMWageMonthly.info()

FoodAZillowMWageMonthly.fillna(FoodAZillowMWageMonthly.mean(), inplace=True)

FoodAZillowMWageMonthly.info()

FoodAZillowMWageMonthly.tail(20)

#dropping highly correlated cols
corr=FoodAZillowMWageMonthly.corr()
variables = corr.columns
correlated_features = set()
for r in range(len(variables)):
    for c in range(r):
        if abs(corr.iloc[r,c])>.95:
            colname = variables[r]
            print(colname)
            correlated_features.add(colname)
            print(correlated_features)
FoodAZillowMWageMonthly = FoodAZillowMWageMonthly.drop(columns = correlated_features)

FoodAZillowMWageMonthly.shape

plt.scatter(FoodAZillowMWageMonthly.AvgRentalIndex,FoodAZillowMWageMonthly.Cost)
plt.xlabel('Average Rental Index')
plt.ylabel('Cost of Assistance')
plt.title('cost vs rental index')

from sklearn.linear_model import LinearRegression

#model1 with all variables
Y=FoodAZillowMWageMonthly.Cost
X=FoodAZillowMWageMonthly[['Household Participation','Per Household Benefit','Per Person Benefit','AvgRentalIndex','Effective.Minimum.Wage.2020.Dollars','Federal.Minimum.Wage.2020.Dollars','State.Minimum.Wage.2020.Dollars']]

linear_regressor = LinearRegression() 

all=linear_regressor.fit(X, Y)
all.score(X,Y)

Y_pred = linear_regressor.predict(X)
Y_pred

#model 2 w/o federal and state wage
Y1=FoodAZillowMWageMonthly.Cost
X1=FoodAZillowMWageMonthly[['Household Participation','Per Household Benefit','Per Person Benefit','AvgRentalIndex','Effective.Minimum.Wage.2020.Dollars']]

all=linear_regressor.fit(X1, Y1)
all.score(X1,Y1)

#model3 with all variables except Household Participation
Y2=FoodAZillowMWageMonthly.Cost
X2=FoodAZillowMWageMonthly[['Per Household Benefit','Per Person Benefit','AvgRentalIndex','Effective.Minimum.Wage.2020.Dollars','Federal.Minimum.Wage.2020.Dollars','State.Minimum.Wage.2020.Dollars']]

all=linear_regressor.fit(X2, Y2)
all.score(X2,Y2)

#model4 with all variables wo ,'Per Household Benefit'
Y3=FoodAZillowMWageMonthly.Cost
X3=FoodAZillowMWageMonthly[['Household Participation','Per Person Benefit','AvgRentalIndex','Effective.Minimum.Wage.2020.Dollars','Federal.Minimum.Wage.2020.Dollars','State.Minimum.Wage.2020.Dollars']]

all=linear_regressor.fit(X3, Y3)
all.score(X3,Y3)

#model5 with all variables wo ,'Per Person Benefit'
Y4=FoodAZillowMWageMonthly.Cost
X4=FoodAZillowMWageMonthly[['Household Participation','Per Household Benefit','AvgRentalIndex','Effective.Minimum.Wage.2020.Dollars','Federal.Minimum.Wage.2020.Dollars','State.Minimum.Wage.2020.Dollars']]

all=linear_regressor.fit(X4, Y4)
all.score(X4,Y4)

#model6 with all variables wo Per Household Benefit','Per Person Benefit'
Y4=FoodAZillowMWageMonthly.Cost
X4=FoodAZillowMWageMonthly[['Household Participation','AvgRentalIndex','Effective.Minimum.Wage.2020.Dollars','Federal.Minimum.Wage.2020.Dollars','State.Minimum.Wage.2020.Dollars']]

all=linear_regressor.fit(X4, Y4)
all.score(X4,Y4)

#model7 with all variables wo ,'Per Household Benefit','Per Person Benefit'
Y5=FoodAZillowMWageMonthly.Cost
X5=FoodAZillowMWageMonthly[['Household Participation','AvgRentalIndex','Effective.Minimum.Wage.2020.Dollars','Federal.Minimum.Wage.2020.Dollars','State.Minimum.Wage.2020.Dollars']]

all=linear_regressor.fit(X5, Y5)
all.score(X5,Y5)

FoodAZillowMWageMonthly=FoodAZillowMWageMonthly.drop(columns='AssistanceDate')
FoodAZillowMWageMonthly=FoodAZillowMWageMonthly.drop(columns='State')


FoodAZillowMWageMonthly=FoodAZillowMWageMonthly.drop(columns='StateColors')
FoodAZillowMWageMonthly=FoodAZillowMWageMonthly.drop(columns='RegionsC')
FoodAZillowMWageMonthly=FoodAZillowMWageMonthly.drop(columns='RegionsSummaryC')
FoodAZillowMWageMonthly=FoodAZillowMWageMonthly.drop(columns='AssistanceDateYear')
FoodAZillowMWageMonthly=FoodAZillowMWageMonthly.drop(columns='AssistanceDateYear.1')

#model 8 RF
# Labels are the values we want to predict
labels = np.array(FoodAZillowMWageMonthly['Cost'])
# Remove the labels from the features
# axis 1 refers to the columns
features= FoodAZillowMWageMonthly.drop('Cost', axis = 1)
# Saving feature names for later use
feature_list = list(features.columns)
# Convert to numpy array
features = np.array(features)

# Using Skicit-learn to split data into training and testing sets
from sklearn.model_selection import train_test_split
# Split the data into training and testing sets
train_features, test_features, train_labels, test_labels = train_test_split(features, labels, test_size = 0.25, random_state = 42)

print('Training Features shape:',train_features.shape)
print('Training labels shape:',train_labels.shape)
print('Test Features shape:',test_features.shape)
print('test labels shape:',test_features.shape)

# Import the model we are using
from sklearn.ensemble import RandomForestRegressor
# Instantiate model with 1300 decision trees
rf = RandomForestRegressor(n_estimators = 1300, random_state = 22)
# Train the model on training data
rf.fit(train_features, train_labels);

# Use the forest's predict method on the test data
predictions = rf.predict(test_features)
# Calculate the absolute errors
errors = abs(predictions - test_labels)
# Print out the mean absolute error (mae)
print('Mean Absolute Error:', round(np.mean(errors), 2), 'degrees.')

# Calculate mean absolute percentage error (MAPE)
mape = 100 * (errors / test_labels)
# Calculate and display accuracy
accuracy = 100 - np.mean(mape)
print('Accuracy:', round(accuracy, 2), '%.')
